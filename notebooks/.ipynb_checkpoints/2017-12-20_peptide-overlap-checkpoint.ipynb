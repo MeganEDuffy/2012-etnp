{
 "cells": [
  {
   "cell_type": "code",
   "execution_count": 1,
   "metadata": {
    "collapsed": false
   },
   "outputs": [
    {
     "name": "stdout",
     "output_type": "stream",
     "text": [
      "Wed Dec 20 13:52:46 PST 2017\r\n"
     ]
    }
   ],
   "source": [
    "!date"
   ]
  },
  {
   "cell_type": "code",
   "execution_count": 2,
   "metadata": {
    "collapsed": false
   },
   "outputs": [
    {
     "name": "stdout",
     "output_type": "stream",
     "text": [
      "Software:\r\n",
      "\r\n",
      "    System Software Overview:\r\n",
      "\r\n",
      "      System Version: macOS 10.13.2 (17C88)\r\n",
      "      Kernel Version: Darwin 17.3.0\r\n",
      "      Boot Volume: Macintosh HD\r\n",
      "      Boot Mode: Normal\r\n",
      "      Computer Name: Megan’s MacBook Pro\r\n",
      "      User Name: Megan Duffy (meganduffy)\r\n",
      "      Secure Virtual Memory: Enabled\r\n",
      "      System Integrity Protection: Enabled\r\n",
      "      Time since boot: 2 days 1:09\r\n",
      "\r\n"
     ]
    }
   ],
   "source": [
    "!system_profiler SPSoftwareDataType"
   ]
  },
  {
   "cell_type": "markdown",
   "metadata": {},
   "source": [
    "### Comparing the total PEAKS peptides ###\n",
    "\n",
    "### PEAKS DB + _de novo_, unique + non-unique used to identify proteins in 3 2012 ETNP samples ###\n",
    "\n",
    "|running #| sample depth/type |\n",
    "|---------|-------------------|\n",
    "|131      | 55 m McLane       |\n",
    "|129      | 100 m McLane      |\n",
    "|trap111  | 105 m trap        |\n",
    "\n",
    "#### PEAKS searches performed sample-by-sample on 2012-12-19 ####\n",
    "\n",
    "#### Velvet assembly database + FS contigs and NCBI genomes (see PEAKS search history) ####\n",
    "\n"
   ]
  },
  {
   "cell_type": "code",
   "execution_count": 6,
   "metadata": {
    "collapsed": false
   },
   "outputs": [
    {
     "name": "stdout",
     "output_type": "stream",
     "text": [
      "etnp-2012-129_20171219_peps.txt     etnp-2012-trap111_20171219_peps.txt\r\n",
      "etnp-2012-131_20171219_peps.txt\r\n"
     ]
    }
   ],
   "source": [
    "#extracted the peptide columns from the PEAKS exported .csv files ('peptide-protein'), into .txt files\n",
    "! ls /Users/meganduffy/Documents/git-repos/2012-etnp/data/"
   ]
  },
  {
   "cell_type": "code",
   "execution_count": 11,
   "metadata": {
    "collapsed": false
   },
   "outputs": [
    {
     "name": "stdout",
     "output_type": "stream",
     "text": [
      "K.LDDNTFYQATAHSVR.D"
     ]
    }
   ],
   "source": [
    "#they still have the tryptic ends\n",
    "!tail -10 /Users/meganduffy/Documents/git-repos/2012-etnp/data/etnp-2012-129_20171219_peps.txt"
   ]
  },
  {
   "cell_type": "code",
   "execution_count": 12,
   "metadata": {
    "collapsed": false
   },
   "outputs": [
    {
     "name": "stdout",
     "output_type": "stream",
     "text": [
      "       0   21679  406085 /Users/meganduffy/Documents/git-repos/2012-etnp/data/etnp-2012-129_20171219_peps.txt\r\n"
     ]
    }
   ],
   "source": [
    "!wc /Users/meganduffy/Documents/git-repos/2012-etnp/data/etnp-2012-129_20171219_peps.txt"
   ]
  },
  {
   "cell_type": "code",
   "execution_count": null,
   "metadata": {
    "collapsed": true
   },
   "outputs": [],
   "source": []
  }
 ],
 "metadata": {
  "anaconda-cloud": {},
  "kernelspec": {
   "display_name": "Python [default]",
   "language": "python",
   "name": "python3"
  },
  "language_info": {
   "codemirror_mode": {
    "name": "ipython",
    "version": 3
   },
   "file_extension": ".py",
   "mimetype": "text/x-python",
   "name": "python",
   "nbconvert_exporter": "python",
   "pygments_lexer": "ipython3",
   "version": "3.5.2"
  }
 },
 "nbformat": 4,
 "nbformat_minor": 1
}
